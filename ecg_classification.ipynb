{
  "nbformat": 4,
  "nbformat_minor": 0,
  "metadata": {
    "colab": {
      "provenance": []
    },
    "kernelspec": {
      "name": "python3",
      "display_name": "Python 3"
    },
    "language_info": {
      "name": "python"
    }
  },
  "cells": [
    {
      "cell_type": "code",
      "execution_count": null,
      "metadata": {
        "id": "sQMZ0Wqagy1L"
      },
      "outputs": [],
      "source": []
    },
    {
      "cell_type": "markdown",
      "source": [
        "# REI505M Machine Learning - Final Project\n",
        "### The New Wave Team - Jacek Wierciński & Anuj Shresta \n",
        "### Project 2 - ECG Classification"
      ],
      "metadata": {
        "id": "XVQtuQobhtjr"
      }
    },
    {
      "cell_type": "markdown",
      "source": [],
      "metadata": {
        "id": "QWCugJ-fhs9j"
      }
    }
  ]
}